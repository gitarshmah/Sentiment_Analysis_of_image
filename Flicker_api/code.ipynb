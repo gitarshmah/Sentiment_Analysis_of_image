{
 "cells": [
  {
   "cell_type": "code",
   "execution_count": 5,
   "metadata": {},
   "outputs": [],
   "source": [
    "import pandas as pd "
   ]
  },
  {
   "cell_type": "code",
   "execution_count": 53,
   "metadata": {},
   "outputs": [
    {
     "ename": "FileNotFoundError",
     "evalue": "[Errno 2] No such file or directory: 'SJ <3 18/05/1973.jpg'",
     "output_type": "error",
     "traceback": [
      "\u001b[0;31m---------------------------------------------------------------------------\u001b[0m",
      "\u001b[0;31mFileNotFoundError\u001b[0m                         Traceback (most recent call last)",
      "\u001b[1;32m/home/arshmah/Desktop/Minor Project/code.ipynb Cell 2\u001b[0m in \u001b[0;36m3\n\u001b[1;32m     <a href='vscode-notebook-cell:/home/arshmah/Desktop/Minor%20Project/code.ipynb#W6sZmlsZQ%3D%3D?line=27'>28</a>\u001b[0m \u001b[39m# Download the image using the URL\u001b[39;00m\n\u001b[1;32m     <a href='vscode-notebook-cell:/home/arshmah/Desktop/Minor%20Project/code.ipynb#W6sZmlsZQ%3D%3D?line=28'>29</a>\u001b[0m image_response \u001b[39m=\u001b[39m requests\u001b[39m.\u001b[39mget(photo_url)\n\u001b[0;32m---> <a href='vscode-notebook-cell:/home/arshmah/Desktop/Minor%20Project/code.ipynb#W6sZmlsZQ%3D%3D?line=29'>30</a>\u001b[0m \u001b[39mwith\u001b[39;00m \u001b[39mopen\u001b[39m(\u001b[39mf\u001b[39m\u001b[39m'\u001b[39m\u001b[39m{\u001b[39;00mtitle\u001b[39m}\u001b[39;00m\u001b[39m.jpg\u001b[39m\u001b[39m'\u001b[39m, \u001b[39m'\u001b[39m\u001b[39mwb\u001b[39m\u001b[39m'\u001b[39m) \u001b[39mas\u001b[39;00m f:\n\u001b[1;32m     <a href='vscode-notebook-cell:/home/arshmah/Desktop/Minor%20Project/code.ipynb#W6sZmlsZQ%3D%3D?line=30'>31</a>\u001b[0m     f\u001b[39m.\u001b[39mwrite(image_response\u001b[39m.\u001b[39mcontent)\n",
      "\u001b[0;31mFileNotFoundError\u001b[0m: [Errno 2] No such file or directory: 'SJ <3 18/05/1973.jpg'"
     ]
    }
   ],
   "source": [
    "import requests\n",
    "\n",
    "API_KEY = 'a147d2d59af9445055fcb28ce7f76f23'\n",
    "SEARCH_TERM = 'Violence'\n",
    "PER_PAGE = 100\n",
    "\n",
    "# API endpoint for searching photos\n",
    "API_URL = 'https://api.flickr.com/services/rest/'\n",
    "\n",
    "params = {\n",
    "    'method': 'flickr.photos.search',\n",
    "    'api_key': API_KEY,\n",
    "    'format': 'json',\n",
    "    'nojsoncallback': 1,\n",
    "    'per_page': PER_PAGE,\n",
    "    'text': SEARCH_TERM,\n",
    "}\n",
    "\n",
    "response = requests.get(API_URL, params=params)\n",
    "data = response.json()\n",
    "\n",
    "# Process the API response\n",
    "for photo in data['photos']['photo']:\n",
    "    photo_url = f\"https://live.staticflickr.com/{photo['server']}/{photo['id']}_{photo['secret']}_o.jpg\"\n",
    "    title = photo['title']\n",
    "    tags = photo.get('tags', '')\n",
    "\n",
    "    # Download the image using the URL\n",
    "    image_response = requests.get(photo_url)\n",
    "    with open(f'{title}.jpg', 'wb') as f:\n",
    "        f.write(image_response.content)\n",
    "\n",
    "    # Store metadata in a structured format (e.g., CSV, JSON)\n",
    "    # Here, you can append the data to a CSV file, for example\n",
    "\n",
    "# Continue pagination if necessary\n"
   ]
  }
 ],
 "metadata": {
  "kernelspec": {
   "display_name": "Python 3",
   "language": "python",
   "name": "python3"
  },
  "language_info": {
   "codemirror_mode": {
    "name": "ipython",
    "version": 3
   },
   "file_extension": ".py",
   "mimetype": "text/x-python",
   "name": "python",
   "nbconvert_exporter": "python",
   "pygments_lexer": "ipython3",
   "version": "3.8.10"
  },
  "orig_nbformat": 4
 },
 "nbformat": 4,
 "nbformat_minor": 2
}
